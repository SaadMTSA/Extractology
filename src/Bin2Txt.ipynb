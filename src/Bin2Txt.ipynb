{
 "cells": [
  {
   "cell_type": "code",
   "execution_count": null,
   "metadata": {},
   "outputs": [],
   "source": [
    "from gensim.models.keyedvectors import KeyedVectors\n",
    "\n",
    "def convertFromBinToTxt(inputFile, outputFile):\n",
    "    model = KeyedVectors.load_word2vec_format(inputFile, binary=True)\n",
    "    model.save_word2vec_format(outputFile, binary=False)"
   ]
  },
  {
   "cell_type": "code",
   "execution_count": null,
   "metadata": {},
   "outputs": [],
   "source": [
    "convertFromBinToTxt('../data/bionlp/wikipedia-pubmed-and-PMC-w2v.bin','../data/bionlp/wikipedia-pubmed-and-PMC-w2v.txt')"
   ]
  },
  {
   "cell_type": "code",
   "execution_count": null,
   "metadata": {},
   "outputs": [],
   "source": [
    "convertFromBinToTxt('../data/bionlp/PubMed-and-PMC-w2v.bin','../data/bionlp/PubMed-and-PMC-w2v.txt')"
   ]
  },
  {
   "cell_type": "code",
   "execution_count": null,
   "metadata": {},
   "outputs": [],
   "source": [
    "convertFromBinToTxt('../data/bionlp/PubMed-w2v.bin','../data/bionlp/PubMed-w2v.txt')"
   ]
  },
  {
   "cell_type": "code",
   "execution_count": null,
   "metadata": {},
   "outputs": [],
   "source": [
    "convertFromBinToTxt('../data/bionlp/PMC-w2v.bin','../data/bionlp/PMC-w2v.txt')"
   ]
  },
  {
   "cell_type": "code",
   "execution_count": 10,
   "metadata": {},
   "outputs": [],
   "source": [
    "import pandas as pd\n",
    "df = pd.read_csv('../data/go/go_cc3.csv')"
   ]
  },
  {
   "cell_type": "code",
   "execution_count": 3,
   "metadata": {},
   "outputs": [
    {
     "data": {
      "text/html": [
       "<div>\n",
       "<style>\n",
       "    .dataframe thead tr:only-child th {\n",
       "        text-align: right;\n",
       "    }\n",
       "\n",
       "    .dataframe thead th {\n",
       "        text-align: left;\n",
       "    }\n",
       "\n",
       "    .dataframe tbody tr th {\n",
       "        vertical-align: top;\n",
       "    }\n",
       "</style>\n",
       "<table border=\"1\" class=\"dataframe\">\n",
       "  <thead>\n",
       "    <tr style=\"text-align: right;\">\n",
       "      <th></th>\n",
       "      <th>article</th>\n",
       "      <th>sentence_no</th>\n",
       "      <th>word</th>\n",
       "      <th>word_no</th>\n",
       "      <th>part_of_speech</th>\n",
       "      <th>encoding</th>\n",
       "    </tr>\n",
       "  </thead>\n",
       "  <tbody>\n",
       "    <tr>\n",
       "      <th>343291</th>\n",
       "      <td>16221973.txt</td>\n",
       "      <td>148</td>\n",
       "      <td>transport</td>\n",
       "      <td>19</td>\n",
       "      <td>VBP</td>\n",
       "      <td>O</td>\n",
       "    </tr>\n",
       "    <tr>\n",
       "      <th>344753</th>\n",
       "      <td>16221973.txt</td>\n",
       "      <td>195</td>\n",
       "      <td>transport</td>\n",
       "      <td>21</td>\n",
       "      <td>NN</td>\n",
       "      <td>XXXXXX</td>\n",
       "    </tr>\n",
       "  </tbody>\n",
       "</table>\n",
       "</div>"
      ],
      "text/plain": [
       "             article  sentence_no       word  word_no part_of_speech encoding\n",
       "343291  16221973.txt          148  transport       19            VBP        O\n",
       "344753  16221973.txt          195  transport       21             NN   XXXXXX"
      ]
     },
     "execution_count": 3,
     "metadata": {},
     "output_type": "execute_result"
    }
   ],
   "source": [
    "df[(df.article == '16221973.txt') & (df.word == 'transport')]"
   ]
  },
  {
   "cell_type": "code",
   "execution_count": 14,
   "metadata": {},
   "outputs": [
    {
     "data": {
      "text/plain": [
       "nuclear      219\n",
       "nuclei        85\n",
       "nucleus       67\n",
       "nucleic       17\n",
       "Nuclear       12\n",
       "Nuclei        11\n",
       "cells          9\n",
       "N              3\n",
       "n              1\n",
       "nucleated      1\n",
       "cell           1\n",
       "Name: word, dtype: int64"
      ]
     },
     "execution_count": 14,
     "metadata": {},
     "output_type": "execute_result"
    }
   ],
   "source": [
    "df[df.encoding == 'GO:0005634'].word.value_counts()"
   ]
  },
  {
   "cell_type": "code",
   "execution_count": null,
   "metadata": {},
   "outputs": [],
   "source": []
  }
 ],
 "metadata": {
  "kernelspec": {
   "display_name": "Python 2",
   "language": "python",
   "name": "python2"
  },
  "language_info": {
   "codemirror_mode": {
    "name": "ipython",
    "version": 3
   },
   "file_extension": ".py",
   "mimetype": "text/x-python",
   "name": "python",
   "nbconvert_exporter": "python",
   "pygments_lexer": "ipython3",
   "version": "3.5.2"
  }
 },
 "nbformat": 4,
 "nbformat_minor": 2
}
