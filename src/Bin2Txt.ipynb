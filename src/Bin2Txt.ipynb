{
 "cells": [
  {
   "cell_type": "code",
   "execution_count": null,
   "metadata": {},
   "outputs": [],
   "source": [
    "from gensim.models.keyedvectors import KeyedVectors\n",
    "\n",
    "def convertFromBinToTxt(inputFile, outputFile):\n",
    "    model = KeyedVectors.load_word2vec_format(inputFile, binary=True)\n",
    "    model.save_word2vec_format(outputFile, binary=False)"
   ]
  },
  {
   "cell_type": "code",
   "execution_count": null,
   "metadata": {},
   "outputs": [],
   "source": [
    "convertFromBinToTxt('../data/bionlp/wikipedia-pubmed-and-PMC-w2v.bin','../data/bionlp/wikipedia-pubmed-and-PMC-w2v.txt')"
   ]
  },
  {
   "cell_type": "code",
   "execution_count": null,
   "metadata": {},
   "outputs": [],
   "source": [
    "convertFromBinToTxt('../data/bionlp/PubMed-and-PMC-w2v.bin','../data/bionlp/PubMed-and-PMC-w2v.txt')"
   ]
  },
  {
   "cell_type": "code",
   "execution_count": null,
   "metadata": {},
   "outputs": [],
   "source": [
    "convertFromBinToTxt('../data/bionlp/PubMed-w2v.bin','../data/bionlp/PubMed-w2v.txt')"
   ]
  },
  {
   "cell_type": "code",
   "execution_count": null,
   "metadata": {},
   "outputs": [],
   "source": [
    "convertFromBinToTxt('../data/bionlp/PMC-w2v.bin','../data/bionlp/PMC-w2v.txt')"
   ]
  }
 ],
 "metadata": {
  "kernelspec": {
   "display_name": "Python 2",
   "language": "python",
   "name": "python2"
  },
  "language_info": {
   "codemirror_mode": {
    "name": "ipython",
    "version": 3
   },
   "file_extension": ".py",
   "mimetype": "text/x-python",
   "name": "python",
   "nbconvert_exporter": "python",
   "pygments_lexer": "ipython3",
   "version": "3.5.2"
  }
 },
 "nbformat": 4,
 "nbformat_minor": 2
}
