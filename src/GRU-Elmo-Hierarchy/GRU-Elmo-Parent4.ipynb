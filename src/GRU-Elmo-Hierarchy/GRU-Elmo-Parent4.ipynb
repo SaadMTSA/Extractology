{
 "cells": [
  {
   "cell_type": "code",
   "execution_count": 1,
   "metadata": {},
   "outputs": [
    {
     "name": "stderr",
     "output_type": "stream",
     "text": [
      "Using TensorFlow backend.\n"
     ]
    }
   ],
   "source": [
    "import json\n",
    "from keras.preprocessing import sequence\n",
    "from keras.models import Sequential\n",
    "from keras.layers.embeddings import Embedding\n",
    "from keras.layers.recurrent import SimpleRNN, GRU, LSTM\n",
    "from keras.layers.core import Dense, Dropout\n",
    "from keras.layers.wrappers import TimeDistributed\n",
    "from keras.layers import Convolution1D, MaxPooling1D\n",
    "from keras.utils import np_utils\n",
    "import itertools\n",
    "import ast\n",
    "from sklearn.model_selection import train_test_split\n",
    "from sklearn.preprocessing import LabelEncoder\n",
    "import sys, os\n",
    "import traceback\n",
    "from itertools import chain\n",
    "import numpy as np\n",
    "import pandas as pd\n",
    "\n",
    "import tensorflow as tf\n",
    "\n",
    "import matplotlib.pyplot as plt\n",
    "\n",
    "%matplotlib inline"
   ]
  },
  {
   "cell_type": "code",
   "execution_count": 2,
   "metadata": {},
   "outputs": [],
   "source": [
    "os.chdir('..')"
   ]
  },
  {
   "cell_type": "code",
   "execution_count": 3,
   "metadata": {},
   "outputs": [],
   "source": [
    "def get_sentences(data_list):\n",
    "    sentences = []\n",
    "    indices = data_list.index.unique()\n",
    "    done = 0\n",
    "    for i in indices:\n",
    "        \n",
    "        temp = data_list.ix[i]\n",
    "        n_encodings = len(temp.encoding.unique())\n",
    "        words = temp[['word','encoding','part_of_speech']].values\n",
    "        if len(words) > 2 and n_encodings > 1:\n",
    "            sentences.append(words)\n",
    "        done += 1\n",
    "        sys.stdout.write('Done with {} sentence from 22726.\\r'.format(done));\n",
    "        sys.stdout.flush()\n",
    "    return sentences"
   ]
  },
  {
   "cell_type": "code",
   "execution_count": 4,
   "metadata": {
    "scrolled": true
   },
   "outputs": [],
   "source": [
    "data_list = pd.read_csv('../data/go/go_cc3.csv')\n",
    "data_list.word.fillna('NA', inplace=True)\n",
    "\n",
    "temp = pd.read_csv('../data/go/go_bp3.csv')\n",
    "temp.word.fillna('NA', inplace=True)\n",
    "\n",
    "temp1 = pd.read_csv('../data/go/go_mf3.csv')\n",
    "temp1.word.fillna('NA', inplace=True)\n",
    "temp1 = temp1.rename(columns={'encoding' : 'encoding_z'})\n",
    "\n",
    "data_list = data_list.merge(temp, on=['article', 'sentence_no', 'word_no'])\n",
    "data_list = data_list.merge(temp1, on=['article', 'sentence_no', 'word_no'])\n",
    "data_list.sort_values(['article', 'sentence_no'], kind='mergesort', inplace=True)\n",
    "x_counts = data_list.encoding_x.value_counts()\n",
    "y_counts = data_list.encoding_y.value_counts()\n",
    "z_counts = data_list.encoding_z.value_counts()\n",
    "# data_list['encoding_x'] = data_list.encoding_x.apply(lambda x: x if x_counts[x] > 4 else 'O')\n",
    "# data_list['encoding_y'] = data_list.encoding_y.apply(lambda x: x if y_counts[x] > 4 else 'O')\n",
    "# data_list['encoding'] = [i if (i == 'O' and j == 'O') else j for i,j in zip(data_list.encoding_x, data_list.encoding_y)]\n",
    "temp_encoding = []\n",
    "for i,j,k in zip(data_list.encoding_x, data_list.encoding_y, data_list.encoding_z):\n",
    "    if i == j and j == k:\n",
    "        temp_encoding.append('O')\n",
    "    elif i == 'O' and j != 'O':\n",
    "        temp_encoding.append(j)\n",
    "    elif j == 'O' and i != 'O':\n",
    "        temp_encoding.append(i)\n",
    "    else:\n",
    "        temp_encoding.append(k)\n",
    "data_list['encoding'] = temp_encoding\n",
    "data_list.drop(['word_x', 'word_y', 'part_of_speech_x', 'part_of_speech_y',\n",
    "                'encoding_x', 'encoding_y', 'encoding_z'], axis=1, inplace=True)\n",
    "data_list.set_index(['article', 'sentence_no'], inplace=True)\n",
    "\n",
    "\n",
    "val_cnt = data_list.encoding.value_counts()\n",
    "# data_list['encoding'] = data_list.encoding.apply(lambda x: 'O' if val_cnt[x] < 10 else x)\n",
    "# data_list = data_list.rename(columns={'word_x' : 'word'})"
   ]
  },
  {
   "cell_type": "code",
   "execution_count": 5,
   "metadata": {},
   "outputs": [],
   "source": [
    "go = pd.read_csv('../data/go/GO_AllSubsumers.tsv', sep='\\t', header=None)\n",
    "go.columns = ['Child', 'Parent']\n",
    "go.Child = go.Child.apply(lambda x: x.replace('_',':'))\n",
    "go.Parent = go.Parent.apply(lambda x: x.replace('_',':'))\n",
    "go_vc = go.Parent.value_counts()\n",
    "go['ParentCount'] = go.Parent.apply(lambda x: go_vc[x])\n",
    "go = go.sort_values('ParentCount', ascending=False)\n",
    "\n",
    "news = data_list.encoding.copy()\n",
    "mydict = {i[2:]:i[2:] for i in data_list.encoding.unique() if i != 'O'}\n",
    "mydict['O'] = 'O'\n",
    "r = 0\n",
    "while r < 4:\n",
    "    for child,parent in mydict.items():\n",
    "        if child != 'O':\n",
    "            vals = go[go.Child == parent].Parent.values\n",
    "            if(len(vals) != 0 and vals[0].startswith(\"GO:\")): ## needs revision and explanation\n",
    "                mydict[child] = vals[0]\n",
    "    r += 1\n",
    "    \n",
    "    \n",
    "k = 0\n",
    "news = [0] * len(data_list)\n",
    "for _, w in data_list.iterrows():\n",
    "    enc = w['encoding']\n",
    "    if enc != 'O':\n",
    "        pre = enc[:2]\n",
    "        enc = enc[2:]\n",
    "        news[k] = pre + mydict[enc]\n",
    "    else:\n",
    "        news[k] = 'O'\n",
    "    k += 1\n",
    "        \n",
    "data_list['encoding'] = news"
   ]
  },
  {
   "cell_type": "code",
   "execution_count": 6,
   "metadata": {
    "scrolled": true
   },
   "outputs": [
    {
     "name": "stdout",
     "output_type": "stream",
     "text": [
      "Done with 103 sentence from 22726.\r"
     ]
    },
    {
     "name": "stderr",
     "output_type": "stream",
     "text": [
      "/usr/local/lib/python3.5/dist-packages/ipykernel_launcher.py:7: DeprecationWarning: \n",
      ".ix is deprecated. Please use\n",
      ".loc for label based indexing or\n",
      ".iloc for positional indexing\n",
      "\n",
      "See the documentation here:\n",
      "http://pandas.pydata.org/pandas-docs/stable/indexing.html#ix-indexer-is-deprecated\n",
      "  import sys\n"
     ]
    },
    {
     "name": "stdout",
     "output_type": "stream",
     "text": [
      "Done with 22726 sentence from 22726.\n",
      "\n",
      "[['Gender' 'O' 'NN']\n",
      " ['does' 'O' 'VBZ']\n",
      " ['not' 'O' 'RB']\n",
      " ['typically' 'O' 'RB']\n",
      " ['affect' 'O' 'JJ']\n",
      " ['IOP' 'O' 'NNP']\n",
      " ['and' 'O' 'CC']\n",
      " ['aging' 'B-GO:0008150' 'VBG']\n",
      " ['results' 'O' 'NNS']\n",
      " ['in' 'O' 'IN']\n",
      " ['an' 'O' 'DT']\n",
      " ['IOP' 'O' 'NNP']\n",
      " ['decrease' 'O' 'NN']\n",
      " ['in' 'O' 'IN']\n",
      " ['some' 'O' 'DT']\n",
      " ['strains' 'O' 'NNS']\n",
      " ['.' 'O' '.']]\n",
      "7894\n",
      "16446\n",
      "198\n",
      "44\n"
     ]
    }
   ],
   "source": [
    "data_list = get_sentences(data_list)\n",
    "print('\\n')\n",
    "print(data_list[0])\n",
    "print(len(data_list))\n",
    "\n",
    "words = list(set(y[0] for x in data_list for y in x))\n",
    "n_words = len(words)\n",
    "print(n_words)\n",
    "\n",
    "tags = list(set(y[1] for x in data_list for y in x))\n",
    "n_tags = len(tags)\n",
    "print(n_tags)\n",
    "\n",
    "poss = list(set(y[2] for x in data_list for y in x))\n",
    "n_poss = len(poss)\n",
    "print(n_poss)"
   ]
  },
  {
   "cell_type": "code",
   "execution_count": 7,
   "metadata": {},
   "outputs": [],
   "source": [
    "max_len = 75\n",
    "max_len_char = 15\n",
    "\n",
    "word2idx = {w: i + 2 for i, w in enumerate(words)}\n",
    "word2idx[\"UNK\"] = 1\n",
    "word2idx[\"O\"] = 0\n",
    "idx2word = {i: w for w, i in word2idx.items()}\n",
    "tag2idx = {t: i + 1 for i, t in enumerate(tags)}\n",
    "tag2idx[\"O\"] = 0\n",
    "idx2tag = {i: w for w, i in tag2idx.items()}\n",
    "\n",
    "pos2idx = {w: i+1 for i, w in enumerate(poss)}\n",
    "pos2idx[\"X\"] = 0\n",
    "idx2pos = {i: w for w, i in pos2idx.items()}"
   ]
  },
  {
   "cell_type": "code",
   "execution_count": 8,
   "metadata": {
    "scrolled": true
   },
   "outputs": [
    {
     "name": "stdout",
     "output_type": "stream",
     "text": [
      "{'B-GO:0006304': 2, 'B-GO:0007166': 3, 'B-GO:0060255': 4, 'B-GO:0009987': 5, 'B-GO:0065007': 6, 'B-GO:0044464': 7, 'I-GO:0006082': 1, 'B-GO:0010646': 9, 'B-GO:0043170': 10, 'O': 0, 'B-GO:0048878': 141, 'I-GO:0003674': 13, 'B-GO:0019538': 14, 'B-GO:0018193': 15, 'B-GO:1901564': 16, 'I-GO:0019222': 17, 'B-GO:0022414': 18, 'B-GO:0048468': 19, 'I-GO:0009117': 82, 'B-GO:0016070': 20, 'I-GO:0010468': 21, 'B-GO:0008152': 22, 'I-GO:0061024': 23, 'B-GO:0001932': 24, 'I-GO:0016271': 25, 'B-GO:0007067': 26, 'B-GO:0044255': 28, 'B-GO:0048870': 29, 'I-GO:0006950': 48, 'B-GO:0005773': 30, 'B-GO:0051276': 31, 'I-GO:0045595': 37, 'B-GO:0048856': 33, 'I-GO:0016070': 35, 'B-GO:0044444': 36, 'B-GO:0003674': 38, 'I-GO:0030030': 39, 'I-GO:1901615': 50, 'I-GO:0031988': 40, 'I-GO:0010605': 41, 'I-GO:0022610': 42, 'I-GO:0010646': 43, 'I-GO:0051234': 44, 'I-GO:0032501': 45, 'B-GO:0019222': 46, 'B-GO:0015833': 47, 'I-GO:0044260': 49, 'B-GO:0050789': 51, 'B-GO:0009416': 52, 'I-GO:0006461': 53, 'I-GO:0001932': 8, 'I-GO:0050877': 54, 'I-GO:0030054': 55, 'B-GO:0003008': 57, 'B-GO:0044281': 59, 'I-GO:0007610': 60, 'B-GO:0006082': 12, 'B-GO:0071702': 174, 'I-GO:0048519': 61, 'I-GO:0044464': 62, 'B-GO:0050896': 63, 'B-GO:0008219': 64, 'I-GO:0051726': 66, 'B-GO:0051246': 67, 'B-GO:0010605': 68, 'B-GO:0098796': 70, 'I-GO:0051179': 71, 'B-GO:0030182': 72, 'I-GO:0007126': 150, 'I-GO:0015833': 89, 'I-GO:0048856': 73, 'B-GO:0032989': 74, 'B-GO:0016271': 75, 'I-GO:0044444': 78, 'B-GO:0040011': 79, 'B-GO:0048583': 80, 'B-GO:0044237': 81, 'I-GO:0007267': 83, 'I-GO:0006304': 84, 'I-GO:0048869': 85, 'I-GO:0044281': 86, 'I-GO:0071702': 87, 'I-GO:0032989': 88, 'I-GO:0048468': 90, 'I-GO:0044848': 181, 'B-GO:0002376': 91, 'B-GO:0044260': 92, 'B-GO:0009653': 56, 'I-GO:0043241': 93, 'B-GO:0006461': 94, 'I-GO:0040011': 95, 'B-GO:0042384': 96, 'I-GO:0051246': 97, 'B-GO:0044424': 58, 'B-GO:0044427': 99, 'I-GO:0032991': 100, 'B-GO:0006996': 101, 'B-GO:0051606': 103, 'B-GO:0044767': 105, 'B-GO:0042592': 118, 'I-GO:0044249': 106, 'I-GO:0065008': 107, 'B-GO:0043436': 108, 'B-GO:0032502': 109, 'I-GO:0043436': 110, 'I-GO:0043226': 154, 'B-GO:0006950': 112, 'I-GO:0018193': 164, 'B-GO:0043234': 113, 'I-GO:0006955': 115, 'I-GO:0044237': 116, 'I-GO:0008150': 117, 'B-GO:0008150': 119, 'B-GO:0051234': 120, 'B-GO:0032501': 121, 'B-GO:0019752': 122, 'B-GO:0034219': 123, 'I-GO:0043228': 124, 'I-GO:0006811': 125, 'I-GO:0034219': 126, 'I-GO:0016568': 127, 'I-GO:0043234': 128, 'B-GO:0044249': 129, 'B-GO:1901615': 130, 'I-GO:0003008': 132, 'I-GO:0006810': 65, 'B-GO:0010468': 134, 'B-GO:0043228': 135, 'I-GO:0006508': 137, 'B-GO:0061024': 138, 'B-GO:0016043': 139, 'I-GO:0048878': 131, 'B-GO:0009117': 140, 'B-GO:0006810': 142, 'I-GO:0050789': 143, 'B-GO:0032991': 193, 'I-GO:0044446': 144, 'I-GO:0044255': 133, 'I-GO:0042592': 98, 'B-GO:0006508': 145, 'I-GO:0044427': 146, 'I-GO:0016043': 147, 'B-GO:0007610': 148, 'B-GO:0007267': 149, 'B-GO:0043241': 104, 'B-GO:0022607': 194, 'I-GO:0022607': 152, 'I-GO:0050896': 153, 'I-GO:0019752': 102, 'I-GO:0044267': 155, 'B-GO:0065008': 156, 'B-GO:0007126': 32, 'B-GO:0006811': 157, 'I-GO:0044424': 158, 'I-GO:0044767': 159, 'I-GO:0008152': 160, 'I-GO:1901564': 136, 'I-GO:0019538': 161, 'I-GO:0032502': 69, 'I-GO:0050794': 27, 'I-GO:0005575': 162, 'B-GO:0055085': 169, 'B-GO:0044267': 163, 'B-GO:0016568': 165, 'B-GO:0048869': 166, 'I-GO:0071704': 167, 'I-GO:0065007': 168, 'B-GO:0007165': 170, 'I-GO:0043170': 171, 'B-GO:0016265': 151, 'B-GO:0044848': 172, 'B-GO:0045595': 34, 'I-GO:0022414': 173, 'B-GO:0031988': 114, 'I-GO:0030182': 175, 'B-GO:0048519': 176, 'B-GO:0005575': 177, 'I-GO:0006996': 178, 'B-GO:0043226': 179, 'B-GO:0044446': 198, 'B-GO:0071704': 180, 'B-GO:0051726': 182, 'B-GO:0030054': 183, 'B-GO:0050877': 76, 'I-GO:0009628': 184, 'B-GO:0022610': 185, 'I-GO:0007165': 186, 'I-GO:0009416': 187, 'B-GO:0030030': 188, 'I-GO:0060255': 189, 'B-GO:0051179': 190, 'I-GO:0098796': 111, 'I-GO:0048870': 191, 'B-GO:0050794': 192, 'I-GO:0009987': 195, 'B-GO:0009628': 196, 'I-GO:0055085': 197, 'I-GO:0002376': 77}\n"
     ]
    }
   ],
   "source": [
    "print(tag2idx)"
   ]
  },
  {
   "cell_type": "code",
   "execution_count": 9,
   "metadata": {},
   "outputs": [
    {
     "name": "stdout",
     "output_type": "stream",
     "text": [
      "{'WRB': 1, 'RBS': 16, 'UH': 2, 'X': 0, 'NN': 17, 'WP$': 3, 'RBR': 4, 'NNS': 5, '``': 6, 'TO': 7, 'WDT': 21, 'MD': 8, ',': 22, 'JJS': 9, 'SYM': 10, ')': 29, 'PRP': 11, '$': 12, 'JJR': 13, 'VB': 14, 'VBP': 15, 'VBG': 18, '.': 19, 'NNP': 20, 'PRP$': 24, 'IN': 23, 'NNPS': 27, 'CD': 26, '(': 28, 'DT': 30, 'JJ': 31, 'RP': 32, 'POS': 33, ':': 37, 'VBD': 35, 'CC': 36, 'WP': 39, 'VBN': 38, 'EX': 34, 'VBZ': 44, \"''\": 40, 'PDT': 41, '#': 42, 'RB': 43, 'FW': 25}\n"
     ]
    }
   ],
   "source": [
    "print(pos2idx)"
   ]
  },
  {
   "cell_type": "code",
   "execution_count": 10,
   "metadata": {},
   "outputs": [],
   "source": [
    "X_word = [[w[0] for w in s] for s in data_list]\n",
    "new_X = []\n",
    "for seq in X_word:\n",
    "    new_seq = []\n",
    "    for i in range(max_len):\n",
    "        try:\n",
    "            new_seq.append(seq[i])\n",
    "        except:\n",
    "            new_seq.append(\"ENDPAD\")\n",
    "    new_X.append(new_seq)\n",
    "X_word = new_X"
   ]
  },
  {
   "cell_type": "code",
   "execution_count": 11,
   "metadata": {},
   "outputs": [
    {
     "name": "stdout",
     "output_type": "stream",
     "text": [
      "128\n"
     ]
    }
   ],
   "source": [
    "chars = set([w_i for w in words for w_i in w])\n",
    "n_chars = len(chars)\n",
    "print(n_chars)"
   ]
  },
  {
   "cell_type": "code",
   "execution_count": 12,
   "metadata": {},
   "outputs": [],
   "source": [
    "char2idx = {c: i + 2 for i, c in enumerate(chars)}\n",
    "char2idx[\"UNK\"] = 1\n",
    "char2idx[\"O\"] = 0"
   ]
  },
  {
   "cell_type": "code",
   "execution_count": 13,
   "metadata": {},
   "outputs": [],
   "source": [
    "X_char = []\n",
    "for sentence in data_list:\n",
    "    sent_seq = []\n",
    "    for i in range(max_len):\n",
    "        word_seq = []\n",
    "        for j in range(max_len_char):\n",
    "            try:\n",
    "                word_seq.append(char2idx.get(sentence[i][0][j]))\n",
    "            except:\n",
    "                word_seq.append(char2idx.get(\"O\"))\n",
    "        sent_seq.append(word_seq)\n",
    "    X_char.append(np.array(sent_seq))\n"
   ]
  },
  {
   "cell_type": "code",
   "execution_count": 14,
   "metadata": {
    "scrolled": true
   },
   "outputs": [],
   "source": [
    "from keras.preprocessing.sequence import pad_sequences\n",
    "X_pos = [[pos2idx[w[2]] for w in s] for s in data_list]\n",
    "X_pos = pad_sequences(maxlen=max_len, sequences=X_pos, value=pos2idx[\"X\"], padding='post', truncating='post')"
   ]
  },
  {
   "cell_type": "code",
   "execution_count": 15,
   "metadata": {},
   "outputs": [],
   "source": [
    "y = [[tag2idx[w[1]] for w in s] for s in data_list]\n",
    "y = pad_sequences(maxlen=max_len, sequences=y,value=tag2idx[\"O\"], padding='post', truncating='post')"
   ]
  },
  {
   "cell_type": "code",
   "execution_count": 16,
   "metadata": {},
   "outputs": [],
   "source": [
    "from keras.utils import to_categorical\n",
    "y = [to_categorical(i, num_classes=n_tags+1) for i in y]"
   ]
  },
  {
   "cell_type": "code",
   "execution_count": 17,
   "metadata": {
    "scrolled": true
   },
   "outputs": [],
   "source": [
    "from sklearn.model_selection import train_test_split\n",
    "X_word_tr, X_word_te, y_tr, y_te = train_test_split(X_word, y, test_size=0.3, random_state=2018)\n",
    "X_pos_tr, X_pos_te, _, _ = train_test_split(X_pos, y, test_size=0.3, random_state=2018)\n",
    "X_char_tr, X_char_te, _, _ = train_test_split(X_char, y, test_size=0.3, random_state=2018)"
   ]
  },
  {
   "cell_type": "code",
   "execution_count": 18,
   "metadata": {},
   "outputs": [],
   "source": [
    "os.environ[\"CUDA_DEVICE_ORDER\"] = \"PCI_BUS_ID\"   # see issue #152\n",
    "os.environ[\"CUDA_VISIBLE_DEVICES\"] = \"3\""
   ]
  },
  {
   "cell_type": "code",
   "execution_count": 19,
   "metadata": {
    "scrolled": true
   },
   "outputs": [
    {
     "name": "stdout",
     "output_type": "stream",
     "text": [
      "INFO:tensorflow:Using /tmp/tfhub_modules to cache modules.\n",
      "INFO:tensorflow:Initialize variable module/bilm/CNN/b_cnn_6:0 from checkpoint b'/tmp/tfhub_modules/9bb74bc86f9caffc8c47dd7b33ec4bb354d9602d/variables/variables' with bilm/CNN/b_cnn_6\n",
      "INFO:tensorflow:Initialize variable module/bilm/RNN_0/RNN/MultiRNNCell/Cell1/rnn/lstm_cell/bias:0 from checkpoint b'/tmp/tfhub_modules/9bb74bc86f9caffc8c47dd7b33ec4bb354d9602d/variables/variables' with bilm/RNN_0/RNN/MultiRNNCell/Cell1/rnn/lstm_cell/bias\n",
      "INFO:tensorflow:Initialize variable module/bilm/CNN/W_cnn_0:0 from checkpoint b'/tmp/tfhub_modules/9bb74bc86f9caffc8c47dd7b33ec4bb354d9602d/variables/variables' with bilm/CNN/W_cnn_0\n",
      "INFO:tensorflow:Initialize variable module/aggregation/weights:0 from checkpoint b'/tmp/tfhub_modules/9bb74bc86f9caffc8c47dd7b33ec4bb354d9602d/variables/variables' with aggregation/weights\n",
      "INFO:tensorflow:Initialize variable module/bilm/RNN_0/RNN/MultiRNNCell/Cell0/rnn/lstm_cell/kernel:0 from checkpoint b'/tmp/tfhub_modules/9bb74bc86f9caffc8c47dd7b33ec4bb354d9602d/variables/variables' with bilm/RNN_0/RNN/MultiRNNCell/Cell0/rnn/lstm_cell/kernel\n",
      "INFO:tensorflow:Initialize variable module/bilm/CNN/b_cnn_3:0 from checkpoint b'/tmp/tfhub_modules/9bb74bc86f9caffc8c47dd7b33ec4bb354d9602d/variables/variables' with bilm/CNN/b_cnn_3\n",
      "INFO:tensorflow:Initialize variable module/bilm/CNN_high_0/W_transform:0 from checkpoint b'/tmp/tfhub_modules/9bb74bc86f9caffc8c47dd7b33ec4bb354d9602d/variables/variables' with bilm/CNN_high_0/W_transform\n",
      "INFO:tensorflow:Initialize variable module/bilm/CNN/W_cnn_5:0 from checkpoint b'/tmp/tfhub_modules/9bb74bc86f9caffc8c47dd7b33ec4bb354d9602d/variables/variables' with bilm/CNN/W_cnn_5\n",
      "INFO:tensorflow:Initialize variable module/bilm/RNN_0/RNN/MultiRNNCell/Cell1/rnn/lstm_cell/kernel:0 from checkpoint b'/tmp/tfhub_modules/9bb74bc86f9caffc8c47dd7b33ec4bb354d9602d/variables/variables' with bilm/RNN_0/RNN/MultiRNNCell/Cell1/rnn/lstm_cell/kernel\n",
      "INFO:tensorflow:Initialize variable module/bilm/CNN/W_cnn_4:0 from checkpoint b'/tmp/tfhub_modules/9bb74bc86f9caffc8c47dd7b33ec4bb354d9602d/variables/variables' with bilm/CNN/W_cnn_4\n",
      "INFO:tensorflow:Initialize variable module/bilm/CNN/W_cnn_2:0 from checkpoint b'/tmp/tfhub_modules/9bb74bc86f9caffc8c47dd7b33ec4bb354d9602d/variables/variables' with bilm/CNN/W_cnn_2\n",
      "INFO:tensorflow:Initialize variable module/bilm/CNN/b_cnn_1:0 from checkpoint b'/tmp/tfhub_modules/9bb74bc86f9caffc8c47dd7b33ec4bb354d9602d/variables/variables' with bilm/CNN/b_cnn_1\n",
      "INFO:tensorflow:Initialize variable module/bilm/CNN_high_1/W_carry:0 from checkpoint b'/tmp/tfhub_modules/9bb74bc86f9caffc8c47dd7b33ec4bb354d9602d/variables/variables' with bilm/CNN_high_1/W_carry\n",
      "INFO:tensorflow:Initialize variable module/bilm/RNN_0/RNN/MultiRNNCell/Cell0/rnn/lstm_cell/projection/kernel:0 from checkpoint b'/tmp/tfhub_modules/9bb74bc86f9caffc8c47dd7b33ec4bb354d9602d/variables/variables' with bilm/RNN_0/RNN/MultiRNNCell/Cell0/rnn/lstm_cell/projection/kernel\n",
      "INFO:tensorflow:Initialize variable module/aggregation/scaling:0 from checkpoint b'/tmp/tfhub_modules/9bb74bc86f9caffc8c47dd7b33ec4bb354d9602d/variables/variables' with aggregation/scaling\n",
      "INFO:tensorflow:Initialize variable module/bilm/CNN/W_cnn_1:0 from checkpoint b'/tmp/tfhub_modules/9bb74bc86f9caffc8c47dd7b33ec4bb354d9602d/variables/variables' with bilm/CNN/W_cnn_1\n",
      "INFO:tensorflow:Initialize variable module/bilm/CNN/b_cnn_4:0 from checkpoint b'/tmp/tfhub_modules/9bb74bc86f9caffc8c47dd7b33ec4bb354d9602d/variables/variables' with bilm/CNN/b_cnn_4\n",
      "INFO:tensorflow:Initialize variable module/bilm/CNN_high_1/W_transform:0 from checkpoint b'/tmp/tfhub_modules/9bb74bc86f9caffc8c47dd7b33ec4bb354d9602d/variables/variables' with bilm/CNN_high_1/W_transform\n",
      "INFO:tensorflow:Initialize variable module/bilm/CNN/W_cnn_3:0 from checkpoint b'/tmp/tfhub_modules/9bb74bc86f9caffc8c47dd7b33ec4bb354d9602d/variables/variables' with bilm/CNN/W_cnn_3\n",
      "INFO:tensorflow:Initialize variable module/bilm/RNN_1/RNN/MultiRNNCell/Cell0/rnn/lstm_cell/projection/kernel:0 from checkpoint b'/tmp/tfhub_modules/9bb74bc86f9caffc8c47dd7b33ec4bb354d9602d/variables/variables' with bilm/RNN_1/RNN/MultiRNNCell/Cell0/rnn/lstm_cell/projection/kernel\n",
      "INFO:tensorflow:Initialize variable module/bilm/CNN_high_1/b_carry:0 from checkpoint b'/tmp/tfhub_modules/9bb74bc86f9caffc8c47dd7b33ec4bb354d9602d/variables/variables' with bilm/CNN_high_1/b_carry\n",
      "INFO:tensorflow:Initialize variable module/bilm/CNN_proj/b_proj:0 from checkpoint b'/tmp/tfhub_modules/9bb74bc86f9caffc8c47dd7b33ec4bb354d9602d/variables/variables' with bilm/CNN_proj/b_proj\n",
      "INFO:tensorflow:Initialize variable module/bilm/RNN_0/RNN/MultiRNNCell/Cell0/rnn/lstm_cell/bias:0 from checkpoint b'/tmp/tfhub_modules/9bb74bc86f9caffc8c47dd7b33ec4bb354d9602d/variables/variables' with bilm/RNN_0/RNN/MultiRNNCell/Cell0/rnn/lstm_cell/bias\n",
      "INFO:tensorflow:Initialize variable module/bilm/CNN_high_0/b_carry:0 from checkpoint b'/tmp/tfhub_modules/9bb74bc86f9caffc8c47dd7b33ec4bb354d9602d/variables/variables' with bilm/CNN_high_0/b_carry\n",
      "INFO:tensorflow:Initialize variable module/bilm/RNN_1/RNN/MultiRNNCell/Cell0/rnn/lstm_cell/bias:0 from checkpoint b'/tmp/tfhub_modules/9bb74bc86f9caffc8c47dd7b33ec4bb354d9602d/variables/variables' with bilm/RNN_1/RNN/MultiRNNCell/Cell0/rnn/lstm_cell/bias\n",
      "INFO:tensorflow:Initialize variable module/bilm/CNN/b_cnn_0:0 from checkpoint b'/tmp/tfhub_modules/9bb74bc86f9caffc8c47dd7b33ec4bb354d9602d/variables/variables' with bilm/CNN/b_cnn_0\n",
      "INFO:tensorflow:Initialize variable module/bilm/CNN_high_0/W_carry:0 from checkpoint b'/tmp/tfhub_modules/9bb74bc86f9caffc8c47dd7b33ec4bb354d9602d/variables/variables' with bilm/CNN_high_0/W_carry\n",
      "INFO:tensorflow:Initialize variable module/bilm/CNN/b_cnn_2:0 from checkpoint b'/tmp/tfhub_modules/9bb74bc86f9caffc8c47dd7b33ec4bb354d9602d/variables/variables' with bilm/CNN/b_cnn_2\n",
      "INFO:tensorflow:Initialize variable module/bilm/RNN_1/RNN/MultiRNNCell/Cell0/rnn/lstm_cell/kernel:0 from checkpoint b'/tmp/tfhub_modules/9bb74bc86f9caffc8c47dd7b33ec4bb354d9602d/variables/variables' with bilm/RNN_1/RNN/MultiRNNCell/Cell0/rnn/lstm_cell/kernel\n",
      "INFO:tensorflow:Initialize variable module/bilm/CNN/W_cnn_6:0 from checkpoint b'/tmp/tfhub_modules/9bb74bc86f9caffc8c47dd7b33ec4bb354d9602d/variables/variables' with bilm/CNN/W_cnn_6\n",
      "INFO:tensorflow:Initialize variable module/bilm/char_embed:0 from checkpoint b'/tmp/tfhub_modules/9bb74bc86f9caffc8c47dd7b33ec4bb354d9602d/variables/variables' with bilm/char_embed\n",
      "INFO:tensorflow:Initialize variable module/bilm/CNN/b_cnn_5:0 from checkpoint b'/tmp/tfhub_modules/9bb74bc86f9caffc8c47dd7b33ec4bb354d9602d/variables/variables' with bilm/CNN/b_cnn_5\n",
      "INFO:tensorflow:Initialize variable module/bilm/CNN_proj/W_proj:0 from checkpoint b'/tmp/tfhub_modules/9bb74bc86f9caffc8c47dd7b33ec4bb354d9602d/variables/variables' with bilm/CNN_proj/W_proj\n",
      "INFO:tensorflow:Initialize variable module/bilm/CNN_high_1/b_transform:0 from checkpoint b'/tmp/tfhub_modules/9bb74bc86f9caffc8c47dd7b33ec4bb354d9602d/variables/variables' with bilm/CNN_high_1/b_transform\n",
      "INFO:tensorflow:Initialize variable module/bilm/CNN_high_0/b_transform:0 from checkpoint b'/tmp/tfhub_modules/9bb74bc86f9caffc8c47dd7b33ec4bb354d9602d/variables/variables' with bilm/CNN_high_0/b_transform\n",
      "INFO:tensorflow:Initialize variable module/bilm/RNN_1/RNN/MultiRNNCell/Cell1/rnn/lstm_cell/bias:0 from checkpoint b'/tmp/tfhub_modules/9bb74bc86f9caffc8c47dd7b33ec4bb354d9602d/variables/variables' with bilm/RNN_1/RNN/MultiRNNCell/Cell1/rnn/lstm_cell/bias\n",
      "INFO:tensorflow:Initialize variable module/bilm/RNN_1/RNN/MultiRNNCell/Cell1/rnn/lstm_cell/kernel:0 from checkpoint b'/tmp/tfhub_modules/9bb74bc86f9caffc8c47dd7b33ec4bb354d9602d/variables/variables' with bilm/RNN_1/RNN/MultiRNNCell/Cell1/rnn/lstm_cell/kernel\n",
      "INFO:tensorflow:Initialize variable module/bilm/RNN_0/RNN/MultiRNNCell/Cell1/rnn/lstm_cell/projection/kernel:0 from checkpoint b'/tmp/tfhub_modules/9bb74bc86f9caffc8c47dd7b33ec4bb354d9602d/variables/variables' with bilm/RNN_0/RNN/MultiRNNCell/Cell1/rnn/lstm_cell/projection/kernel\n",
      "INFO:tensorflow:Initialize variable module/bilm/RNN_1/RNN/MultiRNNCell/Cell1/rnn/lstm_cell/projection/kernel:0 from checkpoint b'/tmp/tfhub_modules/9bb74bc86f9caffc8c47dd7b33ec4bb354d9602d/variables/variables' with bilm/RNN_1/RNN/MultiRNNCell/Cell1/rnn/lstm_cell/projection/kernel\n"
     ]
    }
   ],
   "source": [
    "import tensorflow as tf\n",
    "import tensorflow_hub as hub\n",
    "from keras import backend as K\n",
    "sess = tf.Session()\n",
    "K.set_session(sess)\n",
    "elmo_model = hub.Module(\"https://tfhub.dev/google/elmo/2\", trainable=True)\n",
    "sess.run(tf.global_variables_initializer())\n",
    "sess.run(tf.tables_initializer())\n",
    "\n",
    "def ElmoEmbedding(x):\n",
    "    return elmo_model(inputs={\n",
    "                            \"tokens\": tf.squeeze(tf.cast(x, tf.string)),\n",
    "                            \"sequence_len\": tf.constant(32*[max_len])\n",
    "                      },\n",
    "                      signature=\"tokens\",\n",
    "                      as_dict=True)[\"elmo\"]"
   ]
  },
  {
   "cell_type": "code",
   "execution_count": 20,
   "metadata": {},
   "outputs": [],
   "source": [
    "from keras.models import Model, Input\n",
    "from keras.layers import LSTM, Embedding, Dense, TimeDistributed, Dropout, Conv1D, Flatten\n",
    "from keras.layers import Bidirectional, concatenate, SpatialDropout1D, GlobalMaxPooling1D, Lambda\n",
    "\n",
    "# input and embedding for words\n",
    "word_in = Input(shape=(max_len,), dtype=tf.string)\n",
    "\n",
    "emb_word = Lambda(ElmoEmbedding, output_shape=(max_len, 1024))(word_in)\n",
    "\n",
    "# input and embedding for parts of speech\n",
    "pos_in = Input(shape=(max_len,))\n",
    "emb_pos = Embedding(input_dim=n_poss + 1, output_dim=len(pos2idx),\n",
    "                     input_length=max_len, mask_zero=True)(pos_in)\n",
    "\n",
    "# input and embeddings for characters\n",
    "char_in = Input(shape=(max_len, max_len_char,))\n",
    "emb_char = TimeDistributed(Embedding(input_dim=n_chars + 2, output_dim=100,\n",
    "                           input_length=max_len_char))(char_in)\n",
    "\n",
    "dropout = Dropout(0.3)(emb_char)\n",
    "\n",
    "# CNN\n",
    "conv1d_out = TimeDistributed(Conv1D(kernel_size=3, filters=30, padding='same', activation='tanh', strides=1), name=\"Convolution\")(dropout)\n",
    "maxpool_out = TimeDistributed(MaxPooling1D(max_len_char), name=\"Maxpool\")(conv1d_out)\n",
    "char = TimeDistributed(Flatten(), name=\"Flatten\")(maxpool_out)\n",
    "char = Dropout(0.3)(char)\n",
    "\n",
    "# main GRU\n",
    "x = concatenate([emb_word, char, emb_pos])\n",
    "main_gru = Bidirectional(GRU(units=200, return_sequences=True,\n",
    "                             dropout=0.5,\n",
    "                               recurrent_dropout=0.25))(x)\n",
    "out = TimeDistributed(Dense(n_tags + 1, activation=\"softmax\"))(main_gru)\n",
    "\n",
    "model = Model([word_in, pos_in, char_in], out)"
   ]
  },
  {
   "cell_type": "code",
   "execution_count": 21,
   "metadata": {},
   "outputs": [],
   "source": [
    "from keras.optimizers import RMSprop\n",
    "import keras.backend as K\n",
    "\n",
    "def customLoss(yTrue,yPred):\n",
    "    return - K.sum(yTrue * K.log(yPred))\n",
    "\n",
    "rmsopt = RMSprop(lr=0.001, rho=0.9, epsilon=None, decay=0.0)\n",
    "model.compile(optimizer=rmsopt, loss=customLoss, metrics=['acc'])"
   ]
  },
  {
   "cell_type": "code",
   "execution_count": 22,
   "metadata": {},
   "outputs": [
    {
     "name": "stdout",
     "output_type": "stream",
     "text": [
      "__________________________________________________________________________________________________\n",
      "Layer (type)                    Output Shape         Param #     Connected to                     \n",
      "==================================================================================================\n",
      "input_3 (InputLayer)            (None, 75, 15)       0                                            \n",
      "__________________________________________________________________________________________________\n",
      "time_distributed_1 (TimeDistrib (None, 75, 15, 100)  13000       input_3[0][0]                    \n",
      "__________________________________________________________________________________________________\n",
      "dropout_1 (Dropout)             (None, 75, 15, 100)  0           time_distributed_1[0][0]         \n",
      "__________________________________________________________________________________________________\n",
      "Convolution (TimeDistributed)   (None, 75, 15, 30)   9030        dropout_1[0][0]                  \n",
      "__________________________________________________________________________________________________\n",
      "Maxpool (TimeDistributed)       (None, 75, 1, 30)    0           Convolution[0][0]                \n",
      "__________________________________________________________________________________________________\n",
      "input_1 (InputLayer)            (None, 75)           0                                            \n",
      "__________________________________________________________________________________________________\n",
      "Flatten (TimeDistributed)       (None, 75, 30)       0           Maxpool[0][0]                    \n",
      "__________________________________________________________________________________________________\n",
      "input_2 (InputLayer)            (None, 75)           0                                            \n",
      "__________________________________________________________________________________________________\n",
      "lambda_1 (Lambda)               (None, 75, 1024)     0           input_1[0][0]                    \n",
      "__________________________________________________________________________________________________\n",
      "dropout_2 (Dropout)             (None, 75, 30)       0           Flatten[0][0]                    \n",
      "__________________________________________________________________________________________________\n",
      "embedding_1 (Embedding)         (None, 75, 45)       2025        input_2[0][0]                    \n",
      "__________________________________________________________________________________________________\n",
      "concatenate_1 (Concatenate)     (None, 75, 1099)     0           lambda_1[0][0]                   \n",
      "                                                                 dropout_2[0][0]                  \n",
      "                                                                 embedding_1[0][0]                \n",
      "__________________________________________________________________________________________________\n",
      "bidirectional_1 (Bidirectional) (None, 75, 400)      1560000     concatenate_1[0][0]              \n",
      "__________________________________________________________________________________________________\n",
      "time_distributed_2 (TimeDistrib (None, 75, 199)      79799       bidirectional_1[0][0]            \n",
      "==================================================================================================\n",
      "Total params: 1,663,854\n",
      "Trainable params: 1,663,854\n",
      "Non-trainable params: 0\n",
      "__________________________________________________________________________________________________\n"
     ]
    }
   ],
   "source": [
    "model.summary()"
   ]
  },
  {
   "cell_type": "code",
   "execution_count": 23,
   "metadata": {},
   "outputs": [],
   "source": [
    "from keras.utils import plot_model\n",
    "plot_model(model, to_file='../data/output/graphs/GRU-Elmo.png')"
   ]
  },
  {
   "cell_type": "code",
   "execution_count": 24,
   "metadata": {
    "scrolled": false
   },
   "outputs": [
    {
     "name": "stdout",
     "output_type": "stream",
     "text": [
      "Train on 5504 samples, validate on 2368 samples\n",
      "Epoch 1/20\n",
      "5504/5504 [==============================] - 98s 18ms/step - loss: 367.0432 - acc: 0.9386 - val_loss: 178.7601 - val_acc: 0.9582\n",
      "Epoch 2/20\n",
      "5504/5504 [==============================] - 97s 18ms/step - loss: 163.0105 - acc: 0.9614 - val_loss: 132.9116 - val_acc: 0.9687\n",
      "Epoch 3/20\n",
      "5504/5504 [==============================] - 97s 18ms/step - loss: 125.4908 - acc: 0.9687 - val_loss: 125.3899 - val_acc: 0.9703\n",
      "Epoch 4/20\n",
      "5504/5504 [==============================] - 97s 18ms/step - loss: 102.6820 - acc: 0.9731 - val_loss: 106.9364 - val_acc: 0.9741\n",
      "Epoch 5/20\n",
      "5504/5504 [==============================] - 97s 18ms/step - loss: 85.1472 - acc: 0.9764 - val_loss: 106.8416 - val_acc: 0.9732\n",
      "Epoch 6/20\n",
      "5504/5504 [==============================] - 98s 18ms/step - loss: 73.4576 - acc: 0.9794 - val_loss: 93.0264 - val_acc: 0.9776\n",
      "Epoch 7/20\n",
      "5504/5504 [==============================] - 98s 18ms/step - loss: 61.4568 - acc: 0.9824 - val_loss: 93.0348 - val_acc: 0.9783\n",
      "Epoch 8/20\n",
      "5504/5504 [==============================] - 98s 18ms/step - loss: 53.2296 - acc: 0.9845 - val_loss: 89.2741 - val_acc: 0.9781\n",
      "Epoch 9/20\n",
      "5504/5504 [==============================] - 98s 18ms/step - loss: 44.8060 - acc: 0.9867 - val_loss: 88.9251 - val_acc: 0.9794\n",
      "Epoch 10/20\n",
      "5504/5504 [==============================] - 98s 18ms/step - loss: 41.2718 - acc: 0.9878 - val_loss: 89.8988 - val_acc: 0.9783\n",
      "Epoch 11/20\n",
      "5504/5504 [==============================] - 98s 18ms/step - loss: 34.0616 - acc: 0.9895 - val_loss: 92.5534 - val_acc: 0.9778\n",
      "Epoch 12/20\n",
      "5504/5504 [==============================] - 98s 18ms/step - loss: 31.1769 - acc: 0.9904 - val_loss: 91.8093 - val_acc: 0.9780\n",
      "Epoch 13/20\n",
      "5504/5504 [==============================] - 98s 18ms/step - loss: 26.8630 - acc: 0.9918 - val_loss: 91.4714 - val_acc: 0.9792\n",
      "Epoch 14/20\n",
      "5504/5504 [==============================] - 98s 18ms/step - loss: 24.0595 - acc: 0.9926 - val_loss: 91.1523 - val_acc: 0.9799\n",
      "Epoch 15/20\n",
      "5504/5504 [==============================] - 98s 18ms/step - loss: 21.4404 - acc: 0.9932 - val_loss: 90.5275 - val_acc: 0.9800\n",
      "Epoch 16/20\n",
      "5504/5504 [==============================] - 98s 18ms/step - loss: 19.9490 - acc: 0.9936 - val_loss: 93.3271 - val_acc: 0.9809\n",
      "Epoch 17/20\n",
      "5504/5504 [==============================] - 98s 18ms/step - loss: 18.0951 - acc: 0.9942 - val_loss: 94.7157 - val_acc: 0.9791\n",
      "Epoch 18/20\n",
      "5504/5504 [==============================] - 98s 18ms/step - loss: 16.6501 - acc: 0.9947 - val_loss: 92.8222 - val_acc: 0.9803\n",
      "Epoch 19/20\n",
      "5504/5504 [==============================] - 97s 18ms/step - loss: 15.3787 - acc: 0.9953 - val_loss: 91.3100 - val_acc: 0.9813\n",
      "Epoch 20/20\n",
      "5504/5504 [==============================] - 96s 17ms/step - loss: 14.1951 - acc: 0.9955 - val_loss: 92.8378 - val_acc: 0.9794\n"
     ]
    }
   ],
   "source": [
    "# CHANGE WEIGHTS MR SAAD\n",
    "weights = {i:1 for i in range(0,n_tags+1)}\n",
    "weights[0] = 1e-4\n",
    "history = model.fit([X_word_tr[:len(X_word_tr)//32*32], X_pos_tr[:len(X_word_tr)//32*32],\n",
    "                     np.array(X_char_tr).reshape((len(X_char_tr), max_len, max_len_char))[:len(X_word_tr)//32*32]],\n",
    "                    np.array(y_tr[:len(X_word_tr)//32*32]),\n",
    "                    batch_size=32, epochs=20, validation_data=([X_word_te[:len(y_te)//32*32], X_pos_te[:len(y_te)//32*32],\n",
    "                     np.array(X_char_te).reshape((len(X_char_te), max_len, max_len_char))[:len(y_te)//32*32]],\n",
    "                    np.array(y_te[:len(y_te)//32*32])),\n",
    "                    verbose=1)"
   ]
  },
  {
   "cell_type": "code",
   "execution_count": 25,
   "metadata": {},
   "outputs": [],
   "source": [
    "hist = pd.DataFrame(history.history)\n",
    "hist.to_csv('../data/results/performance/GO_GRU-Elmo-Parent4.tsv', sep='\\t')"
   ]
  },
  {
   "cell_type": "code",
   "execution_count": 26,
   "metadata": {},
   "outputs": [
    {
     "data": {
      "image/png": "[encoded data removed]",
      "text/plain": [
       "<matplotlib.figure.Figure at 0x7f2b44a29ba8>"
      ]
     },
     "metadata": {},
     "output_type": "display_data"
    }
   ],
   "source": [
    "import matplotlib.pyplot as plt\n",
    "\n",
    "plt.style.use(\"ggplot\")\n",
    "plt.figure(figsize=(12,12))\n",
    "plt.plot(hist[\"loss\"], label='Training Loss')\n",
    "plt.plot(hist[\"val_loss\"], label='Validation Loss')\n",
    "plt.legend()\n",
    "plt.show()"
   ]
  },
  {
   "cell_type": "code",
   "execution_count": 27,
   "metadata": {
    "scrolled": false
   },
   "outputs": [
    {
     "data": {
      "image/png": "[encoded data removed]",
      "text/plain": [
       "<matplotlib.figure.Figure at 0x7f29c3753860>"
      ]
     },
     "metadata": {},
     "output_type": "display_data"
    }
   ],
   "source": [
    "plt.style.use(\"ggplot\")\n",
    "plt.figure(figsize=(12,12))\n",
    "plt.plot(hist[\"acc\"], label='Training Accuracy')\n",
    "plt.plot(hist[\"val_acc\"], label='Validation Accuracy')\n",
    "plt.legend()\n",
    "plt.show()"
   ]
  },
  {
   "cell_type": "code",
   "execution_count": 28,
   "metadata": {
    "scrolled": true
   },
   "outputs": [
    {
     "name": "stdout",
     "output_type": "stream",
     "text": [
      "             precision    recall  f1-score   support\n",
      "\n",
      " GO:0032501       0.96      1.00      0.98        22\n",
      " GO:0007126       0.76      0.97      0.85        33\n",
      " GO:0048878       0.00      0.00      0.00         1\n",
      " GO:0043228       0.75      0.84      0.79        45\n",
      " GO:0003008       0.99      0.96      0.97       183\n",
      " GO:0048583       1.00      1.00      1.00         4\n",
      " GO:0048468       0.00      0.00      0.00         1\n",
      " GO:0050896       0.00      0.00      0.00         1\n",
      " GO:0044424       0.64      0.67      0.66        64\n",
      " GO:0065007       0.55      0.41      0.47        29\n",
      " GO:0006950       0.00      0.00      0.00         2\n",
      " GO:0043436       0.33      0.67      0.44         3\n",
      " GO:0044444       0.00      0.00      0.00         1\n",
      " GO:0048869       0.00      0.00      0.00         3\n",
      " GO:0010468       0.75      0.90      0.82        10\n",
      " GO:0030030       0.00      0.00      0.00         3\n",
      " GO:0044464       0.80      0.89      0.85       198\n",
      " GO:0044249       0.00      0.00      0.00         1\n",
      " GO:0006996       0.57      0.67      0.62         6\n",
      " GO:0044267       0.00      0.00      0.00         2\n",
      " GO:0044255       0.75      1.00      0.86         3\n",
      " GO:0060255       0.63      0.73      0.68        30\n",
      " GO:0050794       0.75      0.75      0.75        16\n",
      " GO:0098796       0.00      0.00      0.00         2\n",
      " GO:0044237       0.64      0.32      0.42        22\n",
      " GO:0042592       0.00      0.00      0.00         1\n",
      " GO:0009987       0.54      0.60      0.57        60\n",
      " GO:0043241       0.00      0.00      0.00         2\n",
      " GO:0007165       0.55      0.70      0.62        23\n",
      " GO:0044281       0.00      0.00      0.00         5\n",
      " GO:0071702       0.00      0.00      0.00         4\n",
      " GO:0018193       0.00      0.00      0.00         1\n",
      " GO:0050877       0.83      0.71      0.77         7\n",
      " GO:0009628       1.00      0.50      0.67         4\n",
      " GO:0008152       0.06      0.25      0.10         4\n",
      " GO:0044446       0.61      0.61      0.61        31\n",
      " GO:0048870       0.00      0.00      0.00         1\n",
      " GO:0016271       0.00      0.00      0.00         2\n",
      " GO:0009117       0.00      0.00      0.00         1\n",
      " GO:0050789       0.38      0.30      0.33        27\n",
      " GO:0007067       0.89      0.89      0.89         9\n",
      " GO:0006304       0.00      0.00      0.00         1\n",
      " GO:0048856       0.50      0.33      0.40        12\n",
      " GO:0022610       0.60      1.00      0.75         3\n",
      " GO:0009416       0.00      0.00      0.00         2\n",
      " GO:0016070       0.85      1.00      0.92        11\n",
      " GO:0034219       1.00      1.00      1.00         1\n",
      " GO:0042384       0.00      0.00      0.00         2\n",
      " GO:0022414       1.00      0.50      0.67         6\n",
      " GO:0044260       0.70      0.80      0.74        20\n",
      " GO:0005575       0.85      0.84      0.84       710\n",
      " GO:0016265       0.98      0.98      0.98        50\n",
      " GO:0051179       0.83      0.45      0.59        22\n",
      " GO:0044427       0.76      0.93      0.84        14\n",
      " GO:0051726       0.50      0.83      0.62         6\n",
      " GO:0030054       0.00      0.00      0.00         1\n",
      " GO:1901564       0.45      0.29      0.36        17\n",
      " GO:0001932       0.00      0.00      0.00         2\n",
      " GO:0016568       0.25      1.00      0.40         1\n",
      " GO:0010605       0.00      0.00      0.00         1\n",
      " GO:0008219       0.00      0.00      0.00         1\n",
      " GO:0071704       0.64      0.64      0.64        22\n",
      " GO:0007267       0.00      0.00      0.00         1\n",
      " GO:0016043       1.00      0.50      0.67         6\n",
      " GO:0008150       0.82      0.88      0.85      1803\n",
      " GO:1901615       0.62      0.62      0.62         8\n",
      " GO:0002376       0.00      0.00      0.00         1\n",
      " GO:0065008       1.00      0.33      0.50         3\n",
      " GO:0040011       0.00      0.00      0.00         1\n",
      " GO:0032989       0.67      1.00      0.80         2\n",
      " GO:0061024       0.50      1.00      0.67         7\n",
      " GO:0051234       0.50      0.68      0.58        22\n",
      " GO:0044848       0.94      0.89      0.91        53\n",
      " GO:0007610       0.22      0.67      0.33         3\n",
      " GO:0006810       0.60      0.75      0.67         8\n",
      " GO:0003674       0.98      0.99      0.98        95\n",
      " GO:0032502       0.48      0.58      0.53        53\n",
      " GO:0045595       0.00      0.00      0.00         2\n",
      " GO:0043226       0.85      0.96      0.90        23\n",
      " GO:0043170       0.95      0.84      0.89        25\n",
      "\n",
      "avg / total       0.80      0.83      0.81      3888\n",
      "\n"
     ]
    }
   ],
   "source": [
    "from seqeval.metrics import classification_report\n",
    "\n",
    "predicted = model.predict([X_word_te[:len(y_te)//32*32], X_pos_te[:len(y_te)//32*32],\n",
    "                        np.array(X_char_te[:len(y_te)//32*32]).reshape((len(X_char_te[:len(y_te)//32*32]),\n",
    "                                                     max_len, max_len_char))])\n",
    "true = []\n",
    "predicted_val = []\n",
    "predicted_val2 = []\n",
    "word = []\n",
    "for i in range(len(predicted)):\n",
    "    p_tmp = np.argmax(predicted[i], axis=-1)\n",
    "    \n",
    "    predicted_temp = predicted[i].copy()\n",
    "    predicted_temp[:,0] = 0\n",
    "    p2_tmp = np.argmax(predicted_temp, axis=-1)\n",
    "    \n",
    "    k = 0\n",
    "    for p1,p2 in zip(p_tmp, p2_tmp):\n",
    "        if p1 != p2:\n",
    "            if predicted[i][k][p2] < 0.2:\n",
    "                p2_tmp[k] = p1\n",
    "        k+=1\n",
    "    t_tmp = np.argmax(y_te[i], -1)\n",
    "    word.append(X_word_te[i])\n",
    "    predicted_val.append(p_tmp)\n",
    "    predicted_val2.append(p2_tmp)\n",
    "    true.append(t_tmp)\n",
    "\n",
    "wd = [list(map(lambda x: y, y)) for y in word]    \n",
    "p = [list(map(lambda x: idx2tag[x], y)) for y in predicted_val]\n",
    "p2 = [list(map(lambda x: idx2tag[x], y)) for y in predicted_val2]\n",
    "t = [list(map(lambda x: idx2tag[x], y)) for y in true]\n",
    "\n",
    "report = classification_report(list(itertools.chain.from_iterable(t)), \n",
    "                                    list(itertools.chain.from_iterable(p)))\n",
    "# print \"\\n\"\n",
    "print(report)"
   ]
  },
  {
   "cell_type": "code",
   "execution_count": 29,
   "metadata": {
    "scrolled": true
   },
   "outputs": [
    {
     "name": "stdout",
     "output_type": "stream",
     "text": [
      "[  0   0   0   0   0   0 119   0   0   0   0   0   0   0   0   0   0   0\n",
      "   0   0   0   0   0   0   0   0   0   0   0   0   0   0   0   0   0   0\n",
      "   0   0   0   0   0   0   0   0   0   0   0   0   0   0   0   0   0   0\n",
      "   0   0   0   0   0   0   0   0   0   0   0   0   0   0   0   0   0   0\n",
      "   0   0   0]\n",
      "Word           ||True ||Pred\n",
      "==============================\n",
      "(              : O     O\n",
      "A              : O     O\n",
      ")              : O     O\n",
      "ES             : O     O\n",
      "cells          : O     O\n",
      "were           : O     O\n",
      "transfected    : B-GO:0008150 B-GO:0008150\n",
      "with           : O     O\n",
      "p150CAF-1      : O     O\n",
      "or             : O     O\n",
      "control        : O     O\n",
      "siRNA          : O     O\n",
      "vectors        : O     O\n",
      ".              : O     O\n",
      "ENDPAD         : O     O\n",
      "ENDPAD         : O     O\n",
      "ENDPAD         : O     O\n",
      "ENDPAD         : O     O\n",
      "ENDPAD         : O     O\n",
      "ENDPAD         : O     O\n",
      "ENDPAD         : O     O\n",
      "ENDPAD         : O     O\n",
      "ENDPAD         : O     O\n",
      "ENDPAD         : O     O\n",
      "ENDPAD         : O     O\n",
      "ENDPAD         : O     O\n",
      "ENDPAD         : O     O\n",
      "ENDPAD         : O     O\n",
      "ENDPAD         : O     O\n",
      "ENDPAD         : O     O\n",
      "ENDPAD         : O     O\n",
      "ENDPAD         : O     O\n",
      "ENDPAD         : O     O\n",
      "ENDPAD         : O     O\n",
      "ENDPAD         : O     O\n",
      "ENDPAD         : O     O\n",
      "ENDPAD         : O     O\n",
      "ENDPAD         : O     O\n",
      "ENDPAD         : O     O\n",
      "ENDPAD         : O     O\n",
      "ENDPAD         : O     O\n",
      "ENDPAD         : O     O\n",
      "ENDPAD         : O     O\n",
      "ENDPAD         : O     O\n",
      "ENDPAD         : O     O\n",
      "ENDPAD         : O     O\n",
      "ENDPAD         : O     O\n",
      "ENDPAD         : O     O\n",
      "ENDPAD         : O     O\n",
      "ENDPAD         : O     O\n",
      "ENDPAD         : O     O\n",
      "ENDPAD         : O     O\n",
      "ENDPAD         : O     O\n",
      "ENDPAD         : O     O\n",
      "ENDPAD         : O     O\n",
      "ENDPAD         : O     O\n",
      "ENDPAD         : O     O\n",
      "ENDPAD         : O     O\n",
      "ENDPAD         : O     O\n",
      "ENDPAD         : O     O\n",
      "ENDPAD         : O     O\n",
      "ENDPAD         : O     O\n",
      "ENDPAD         : O     O\n",
      "ENDPAD         : O     O\n",
      "ENDPAD         : O     O\n",
      "ENDPAD         : O     O\n",
      "ENDPAD         : O     O\n",
      "ENDPAD         : O     O\n",
      "ENDPAD         : O     O\n",
      "ENDPAD         : O     O\n",
      "ENDPAD         : O     O\n",
      "ENDPAD         : O     O\n",
      "ENDPAD         : O     O\n",
      "ENDPAD         : O     O\n",
      "ENDPAD         : O     O\n"
     ]
    }
   ],
   "source": [
    "i = 200\n",
    "pred = np.argmax(predicted[i], axis=-1)\n",
    "pred2 = np.argmax(predicted[i], axis=-1)\n",
    "print(pred)\n",
    "print(\"{:15}||{:5}||{}\".format(\"Word\", \"True\", \"Pred\"))\n",
    "print(30 * \"=\")\n",
    "for w, tr, pred in zip(X_word_te[i], np.argmax(y_te[i], -1), pred):\n",
    "    if w != 0:\n",
    "        print(\"{:15}: {:5} {}\".format(w, idx2tag[tr], idx2tag[pred]))\n",
    "        \n",
    "# pd = model.predict(np.array([X_te[i]]))\n",
    "# pd = np.argmax(pd, axis=-1)\n",
    "# true = np.argmax(y_te[i], -1)\n",
    "# print(\"{:15}||{:5}||{}\".format(\"Word\", \"True\", \"Pred\"))\n",
    "# print(30 * \"=\")\n",
    "\n",
    "# for w, t1, pred in zip(X_te[i], true, pd[0]):\n",
    "#     if w != 0:\n",
    "#         print(\"{:15}: {:5} {}\".format(words[w-1], tags[t1], tags[pred]))"
   ]
  },
  {
   "cell_type": "code",
   "execution_count": 30,
   "metadata": {},
   "outputs": [],
   "source": [
    "def print_report_with_unique_vals(report):\n",
    "    reportlines = report.split('\\n')\n",
    "    print(reportlines[0]+ '\\t  uniques\\n')\n",
    "    for i in reportlines[2:-3]:\n",
    "        tag = i.split()[0]\n",
    "        unique_vals = len(pd.Series([w[0] for s in data_list for w in s if w[1] == tag]).unique())\n",
    "        print(i + '\\t\\t' + str(unique_vals))\n",
    "    print('\\n' + reportlines[-2] + '\\n')"
   ]
  },
  {
   "cell_type": "code",
   "execution_count": 31,
   "metadata": {},
   "outputs": [],
   "source": [
    "import pandas as pd\n",
    "\n",
    "df = pd.DataFrame(\n",
    "{\n",
    "    'Predicted' : list(itertools.chain.from_iterable(p)),\n",
    "    'Predicted2' : list(itertools.chain.from_iterable(p2)),\n",
    "    'Ground Truth': list(itertools.chain.from_iterable(t)),\n",
    "    'Word' : list(itertools.chain.from_iterable(wd)),\n",
    "}\n",
    ")\n"
   ]
  },
  {
   "cell_type": "code",
   "execution_count": 32,
   "metadata": {},
   "outputs": [],
   "source": [
    "df = df[df['Word'] != 'O']"
   ]
  },
  {
   "cell_type": "code",
   "execution_count": 46,
   "metadata": {
    "scrolled": true
   },
   "outputs": [
    {
     "name": "stdout",
     "output_type": "stream",
     "text": [
      "\n",
      "\n",
      "             precision    recall  f1-score   support\n",
      "\n",
      "GO:0071702O       0.00      0.00      0.00         4\n",
      "GO:0005575O       0.85      0.83      0.84       710\n",
      "GO:0003674O       0.98      0.99      0.98        94\n",
      "GO:0010605O       0.00      0.00      0.00         1\n",
      "GO:0009628O       1.00      0.50      0.67         4\n",
      "GO:0044255O       0.75      1.00      0.86         3\n",
      "GO:0065008O       1.00      0.33      0.50         3\n",
      "GO:0016265O       0.98      0.98      0.98        50\n",
      "GO:0006810O       0.60      0.75      0.67         8\n",
      "GO:0032502O       0.49      0.58      0.53        53\n",
      "GO:0002376O       0.00      0.00      0.00         1\n",
      "GO:0044446O       0.61      0.63      0.62        30\n",
      "GO:0007067O       0.89      0.89      0.89         9\n",
      "GO:0022610O       0.60      1.00      0.75         3\n",
      "GO:0003008O       0.99      0.96      0.97       183\n",
      "GO:0048856O       0.50      0.33      0.40        12\n",
      "GO:0060255O       0.63      0.73      0.68        30\n",
      "GO:0010468O       0.75      0.90      0.82        10\n",
      "GO:0048870O       0.00      0.00      0.00         1\n",
      "GO:0008150O       0.82      0.86      0.84      1801\n",
      "GO:0007126O       0.76      0.97      0.85        33\n",
      "GO:0044424O       0.64      0.67      0.66        64\n",
      "GO:0044281O       0.00      0.00      0.00         5\n",
      "GO:0044848O       0.94      0.89      0.91        53\n",
      "GO:0051234O       0.48      0.64      0.55        22\n",
      "GO:0044427O       0.76      0.93      0.84        14\n",
      "GO:0007610O       0.22      0.67      0.33         3\n",
      "GO:0051726O       0.50      0.83      0.62         6\n",
      "GO:0050896O       0.00      0.00      0.00         1\n",
      "GO:0032989O       0.67      1.00      0.80         2\n",
      "GO:0045595O       0.00      0.00      0.00         2\n",
      "GO:0051179O       0.83      0.45      0.59        22\n",
      "GO:0050794O       0.75      0.75      0.75        16\n",
      "GO:1901615O       0.62      0.62      0.62         8\n",
      "GO:0044237O       0.64      0.32      0.42        22\n",
      "GO:0048583O       1.00      1.00      1.00         4\n",
      "GO:0030030O       0.00      0.00      0.00         3\n",
      "GO:0065007O       0.55      0.41      0.47        29\n",
      "GO:0042384O       0.00      0.00      0.00         2\n",
      "GO:0050789O       0.38      0.30      0.33        27\n",
      "GO:0043436O       0.33      0.67      0.44         3\n",
      "GO:0048878O       0.00      0.00      0.00         1\n",
      "GO:0034219O       1.00      1.00      1.00         1\n",
      "GO:0009987O       0.54      0.60      0.57        60\n",
      "GO:0043241O       0.00      0.00      0.00         2\n",
      "GO:0009117O       0.00      0.00      0.00         1\n",
      "GO:0008152O       0.06      0.25      0.10         4\n",
      "GO:0043226O       0.85      0.96      0.90        23\n",
      "GO:0016043O       1.00      0.50      0.67         6\n",
      "GO:0016271O       0.00      0.00      0.00         2\n",
      "GO:0018193O       0.00      0.00      0.00         1\n",
      "GO:0071704O       0.64      0.64      0.64        22\n",
      "GO:0008219O       0.00      0.00      0.00         1\n",
      "GO:0032501O       0.96      1.00      0.98        22\n",
      "GO:0030054O       0.00      0.00      0.00         1\n",
      "GO:0044249O       0.00      0.00      0.00         1\n",
      "GO:0043170O       0.95      0.84      0.89        25\n",
      "GO:1901564O       0.45      0.29      0.36        17\n",
      "GO:0006950O       0.00      0.00      0.00         2\n",
      "GO:0042592O       0.00      0.00      0.00         1\n",
      "GO:0040011O       0.00      0.00      0.00         1\n",
      "GO:0061024O       0.54      1.00      0.70         7\n",
      "GO:0007165O       0.55      0.70      0.62        23\n",
      "GO:0006996O       0.57      0.67      0.62         6\n",
      "GO:0043228O       0.75      0.84      0.79        45\n",
      "GO:0016070O       0.85      1.00      0.92        11\n",
      "GO:0044464O       0.81      0.89      0.85       198\n",
      "GO:0006304O       0.00      0.00      0.00         1\n",
      "GO:0044444O       0.00      0.00      0.00         1\n",
      "GO:0022414O       1.00      0.50      0.67         6\n",
      "GO:0007267O       0.00      0.00      0.00         1\n",
      "GO:0016568O       0.25      1.00      0.40         1\n",
      "GO:0050877O       0.83      0.71      0.77         7\n",
      "GO:0009416O       0.00      0.00      0.00         2\n",
      "GO:0044267O       0.00      0.00      0.00         2\n",
      "GO:0048869O       0.00      0.00      0.00         3\n",
      "GO:0044260O       0.70      0.80      0.74        20\n",
      "GO:0001932O       0.00      0.00      0.00         2\n",
      "GO:0048468O       0.00      0.00      0.00         1\n",
      "GO:0098796O       0.00      0.00      0.00         2\n",
      "\n",
      "avg / total       0.80      0.82      0.81      3884\n",
      "\n"
     ]
    }
   ],
   "source": [
    "df1 = df[(df['Predicted'] != 'O') & (df['Ground Truth'] != 'O') | \n",
    "         (df['Predicted'] == 'O') & (df['Ground Truth'] != 'O') |\n",
    "         (df['Predicted'] != 'O') & (df['Ground Truth'] == 'O')\n",
    "        ]\n",
    "\n",
    "report = classification_report(df1['Ground Truth'], \n",
    "                                    df1['Predicted'])\n",
    "print(\"\\n\")\n",
    "# print_report_with_unique_vals(report)\n",
    "print(report)"
   ]
  },
  {
   "cell_type": "code",
   "execution_count": 39,
   "metadata": {
    "scrolled": true
   },
   "outputs": [
    {
     "name": "stdout",
     "output_type": "stream",
     "text": [
      "\n",
      "\n",
      "             precision    recall  f1-score   support\n",
      "\n",
      "GO:0071702O       0.00      0.00      0.00         4\n",
      "GO:0005575O       0.79      0.85      0.82       710\n",
      "GO:0003674O       0.97      0.99      0.98        94\n",
      "GO:0010605O       0.00      0.00      0.00         1\n",
      "GO:0098796O       0.00      0.00      0.00         2\n",
      "GO:0009628O       1.00      0.50      0.67         4\n",
      "GO:0044255O       0.75      1.00      0.86         3\n",
      "GO:0065008O       1.00      0.33      0.50         3\n",
      "GO:0009987O       0.54      0.63      0.58        60\n",
      "GO:0006810O       0.58      0.88      0.70         8\n",
      "GO:0032502O       0.40      0.58      0.47        53\n",
      "GO:0002376O       0.00      0.00      0.00         1\n",
      "GO:0044446O       0.56      0.60      0.58        30\n",
      "GO:0043436O       0.33      0.67      0.44         3\n",
      "GO:0022610O       0.50      1.00      0.67         3\n",
      "GO:0003008O       0.99      0.96      0.97       183\n",
      "GO:0048856O       0.27      0.25      0.26        12\n",
      "GO:0060255O       0.56      0.73      0.64        30\n",
      "GO:0010468O       0.64      0.90      0.75        10\n",
      "GO:0048870O       0.00      0.00      0.00         1\n",
      "GO:0008150O       0.76      0.87      0.81      1801\n",
      "GO:0007126O       0.76      0.97      0.85        33\n",
      "GO:0044424O       0.58      0.72      0.64        64\n",
      "GO:0044281O       0.00      0.00      0.00         5\n",
      "GO:0044848O       0.91      0.91      0.91        53\n",
      "GO:0051234O       0.42      0.64      0.51        22\n",
      "GO:0044427O       0.72      0.93      0.81        14\n",
      "GO:0051726O       0.50      0.83      0.62         6\n",
      "GO:0050896O       0.00      0.00      0.00         1\n",
      "GO:0050877O       0.83      0.71      0.77         7\n",
      "GO:0045595O       0.00      0.00      0.00         2\n",
      "GO:0051179O       0.80      0.55      0.65        22\n",
      "GO:0042384O       0.00      0.00      0.00         2\n",
      "GO:0050794O       0.72      0.81      0.76        16\n",
      "GO:0007610O       0.20      0.67      0.31         3\n",
      "GO:0048583O       1.00      1.00      1.00         4\n",
      "GO:0044464O       0.76      0.89      0.82       198\n",
      "GO:0044237O       0.57      0.36      0.44        22\n",
      "GO:0008219O       0.00      0.00      0.00         1\n",
      "GO:0030030O       0.00      0.00      0.00         3\n",
      "GO:0065007O       0.48      0.45      0.46        29\n",
      "GO:0032989O       0.67      1.00      0.80         2\n",
      "GO:0050789O       0.31      0.30      0.30        27\n",
      "GO:0007067O       0.89      0.89      0.89         9\n",
      "GO:0048878O       0.00      0.00      0.00         1\n",
      "GO:0034219O       1.00      1.00      1.00         1\n",
      "GO:0016265O       0.98      0.98      0.98        50\n",
      "GO:0009117O       0.00      0.00      0.00         1\n",
      "GO:0008152O       0.05      0.25      0.09         4\n",
      "GO:0043226O       0.85      0.96      0.90        23\n",
      "GO:0016271O       0.00      0.00      0.00         2\n",
      "GO:0018193O       0.00      0.00      0.00         1\n",
      "GO:0071704O       0.60      0.68      0.64        22\n",
      "GO:0006950O       0.00      0.00      0.00         2\n",
      "GO:0032501O       0.92      1.00      0.96        22\n",
      "GO:0030054O       0.00      0.00      0.00         1\n",
      "GO:0044249O       0.00      0.00      0.00         1\n",
      "GO:0043170O       0.95      0.84      0.89        25\n",
      "GO:1901564O       0.38      0.29      0.33        17\n",
      "GO:0042592O       0.00      0.00      0.00         1\n",
      "GO:0061024O       0.47      1.00      0.64         7\n",
      "GO:0007165O       0.46      0.70      0.55        23\n",
      "GO:0006996O       0.57      0.67      0.62         6\n",
      "GO:0043228O       0.66      0.82      0.73        45\n",
      "GO:0016070O       0.85      1.00      0.92        11\n",
      "GO:0016043O       1.00      0.50      0.67         6\n",
      "GO:0006304O       0.00      0.00      0.00         1\n",
      "GO:1901615O       0.62      0.62      0.62         8\n",
      "GO:0022414O       1.00      0.50      0.67         6\n",
      "GO:0007267O       0.00      0.00      0.00         1\n",
      "GO:0016568O       0.20      1.00      0.33         1\n",
      "GO:0044444O       0.00      0.00      0.00         1\n",
      "GO:0040011O       0.00      0.00      0.00         1\n",
      "GO:0009416O       0.00      0.00      0.00         2\n",
      "GO:0044267O       0.00      0.00      0.00         2\n",
      "GO:0048869O       0.00      0.00      0.00         3\n",
      "GO:0044260O       0.61      0.85      0.71        20\n",
      "GO:0001932O       0.00      0.00      0.00         2\n",
      "GO:0048468O       0.00      0.00      0.00         1\n",
      "GO:0043241O       0.00      0.00      0.00         2\n",
      "\n",
      "avg / total       0.75      0.83      0.78      3884\n",
      "\n"
     ]
    }
   ],
   "source": [
    "df2 = df[(df['Predicted2'] != 'O') & (df['Ground Truth'] != 'O') | \n",
    "         (df['Predicted2'] == 'O') & (df['Ground Truth'] != 'O') |\n",
    "         (df['Predicted2'] != 'O') & (df['Ground Truth'] == 'O')\n",
    "        ]\n",
    "\n",
    "report = classification_report(df2['Ground Truth'], \n",
    "                                    df2['Predicted2'])\n",
    "print(\"\\n\")\n",
    "# print_report_with_unique_vals(report)\n",
    "print(report)"
   ]
  },
  {
   "cell_type": "code",
   "execution_count": 37,
   "metadata": {},
   "outputs": [],
   "source": [
    "df.to_csv('../data/results/GO_merged_Elmo.tsv', sep='\\t')"
   ]
  },
  {
   "cell_type": "code",
   "execution_count": 38,
   "metadata": {},
   "outputs": [
    {
     "name": "stdout",
     "output_type": "stream",
     "text": [
      "('Mean semantic similarity: ', 0.838)\r\n"
     ]
    }
   ],
   "source": [
    "!python2.7 ComputeSim.py ../data/results/GO_merged_Elmo.tsv ../data/go/GO_AllSubsumers.tsv"
   ]
  }
 ],
 "metadata": {
  "kernelspec": {
   "display_name": "Python 3",
   "language": "python",
   "name": "python3"
  },
  "language_info": {
   "codemirror_mode": {
    "name": "ipython",
    "version": 3
   },
   "file_extension": ".py",
   "mimetype": "text/x-python",
   "name": "python",
   "nbconvert_exporter": "python",
   "pygments_lexer": "ipython3",
   "version": "3.5.2"
  }
 },
 "nbformat": 4,
 "nbformat_minor": 2
}
